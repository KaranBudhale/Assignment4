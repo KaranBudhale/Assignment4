{
 "cells": [
  {
   "cell_type": "markdown",
   "metadata": {},
   "source": [
    "<b>1.1)   Write a Python Program(with class concepts) to find the area of the triangle using the below formula. \n",
    " \n",
    "area = (s*(s-a)*(s-b)*(s-c)) ** 0.5 \n",
    " \n",
    "Function to take the length of the sides of triangle from user should be defined in the parent class and function to calculate the area should be defined in subclass.<b>"
   ]
  },
  {
   "cell_type": "code",
   "execution_count": 3,
   "metadata": {},
   "outputs": [
    {
     "name": "stdout",
     "output_type": "stream",
     "text": [
      "Enter the lenth of side A: 14\n",
      "\n",
      "Enter the lenth of side B: 147\n",
      "\n",
      "Enter the lenth of side C: 147\n",
      "\n",
      "******Area of trangle is******\n",
      "\n",
      " 1027.8326712067485 \n"
     ]
    }
   ],
   "source": [
    "class Triangle:\n",
    "    def __init__(self,a,b,c):\n",
    "        self.a=a\n",
    "        self.b=b\n",
    "        self.c=c\n",
    "class Area(Triangle):\n",
    "    def __init__(self):\n",
    "        Triangle.__init__(self,a,b,c)\n",
    "    def compute(self):\n",
    "        s = (self.a+self.b+self.c) / 2\n",
    "        area=((s*(s-self.a)*(s-self.b)*(s-self.c))**0.5)\n",
    "        return area\n",
    "a=float(input(\"Enter the lenth of side A: \"))\n",
    "b=float(input(\"\\nEnter the lenth of side B: \"))\n",
    "c=float(input(\"\\nEnter the lenth of side C: \"))\n",
    "\n",
    "tr=Triangle(a,b,c)\n",
    "ar=Area()\n",
    "print(\"\\n******Area of trangle is******\\n\\n\" ,ar.compute(),\"\")"
   ]
  },
  {
   "cell_type": "markdown",
   "metadata": {},
   "source": [
    "<b>1.2) Write a function filter_long_words() that takes a list of words and an integer n and returns the list of words that are longer than n<b>"
   ]
  },
  {
   "cell_type": "code",
   "execution_count": 14,
   "metadata": {},
   "outputs": [
    {
     "name": "stdout",
     "output_type": "stream",
     "text": [
      "Enter the number : 3\n",
      "\n",
      "Enter comma saparated words : Karan,yash,rajendra,ria,tia,sam,john,joe\n",
      "\n",
      "***Words longer than 3 letters are***\n",
      " ['Karan', 'yash', 'rajendra', 'john']\n"
     ]
    }
   ],
   "source": [
    "new_list=[]\n",
    "def filter_long_words(word_list,num):  \n",
    "    for i in range(len(word_list)):\n",
    "        if len(word_list[i])> num :\n",
    "            new_list.append(word_list[i])\n",
    "    return new_list  \n",
    "def main():\n",
    "    num1 = int(input(\"Enter the number : \")) \n",
    "    input_list= input(\"\\nEnter comma saparated words : \")               \n",
    "    input_words=input_list.split(\",\")\n",
    "    print (\"\\n***Words longer than {} letters are***\\n\".format(num1),filter_long_words(input_words,num1))   # function which calls our longer word finding function \n",
    "main()\n"
   ]
  },
  {
   "cell_type": "markdown",
   "metadata": {},
   "source": [
    "<b> 2.1 Write a Python program using function concept that maps list of words into a list of integers representing the lengths of the corresponding words. \n",
    " \n",
    "Hint: If a list [ ab,cde,erty] is passed on to the python function output should come as [2,3,4] \n",
    " \n",
    "Here 2,3 and 4 are the lengths of the words in the list. <b>\n",
    " \n",
    " "
   ]
  },
  {
   "cell_type": "code",
   "execution_count": 16,
   "metadata": {},
   "outputs": [
    {
     "name": "stdout",
     "output_type": "stream",
     "text": [
      "Enter comma saparated words : Karan,yash,rajendra,ria,tia,sam,john,joe\n",
      "\n",
      "***** Lenth of the words *****\n",
      " [5, 4, 8, 3, 3, 3, 4, 3]\n"
     ]
    }
   ],
   "source": [
    "Mapped_list=[]\n",
    "def map_list(list1):\n",
    "    for i in range (len(list1)):\n",
    "        Mapped_list.append(len(list1[i]))\n",
    "    print (\"\\n***** Lenth of the words *****\\n\",Mapped_list)\n",
    "def main():\n",
    "    input_list= input(\"Enter comma saparated words : \")               \n",
    "    input_words=input_list.split(\",\")\n",
    "    map_list(input_words)\n",
    "main()"
   ]
  },
  {
   "cell_type": "code",
   "execution_count": 17,
   "metadata": {},
   "outputs": [
    {
     "name": "stdout",
     "output_type": "stream",
     "text": [
      "\n",
      "***** Lenth of the words *****\n",
      " [5, 4, 6]\n"
     ]
    }
   ],
   "source": [
    "#We can perform above task by using map function also \n",
    "filtered=map(lambda x: len(x),['karan','yash', 'karann'])\n",
    "len_of_words=[]\n",
    "for i in filtered:\n",
    "    len_of_words.append(i)\n",
    "print (\"\\n***** Lenth of the words *****\\n\",len_of_words)"
   ]
  },
  {
   "cell_type": "markdown",
   "metadata": {},
   "source": [
    "<b> 2.2) Write a Python function which takes a character (i.e. a string of length 1) and returns True if it is a vowel, False otherwise.<b>"
   ]
  },
  {
   "cell_type": "code",
   "execution_count": 22,
   "metadata": {},
   "outputs": [
    {
     "name": "stdout",
     "output_type": "stream",
     "text": [
      "***When passed consonant***\n",
      " False\n",
      "\n",
      "***When passed vowel****\n",
      "      True\n"
     ]
    }
   ],
   "source": [
    "def find_vowel(char): \n",
    "    Vowels=['a','e','i','o','u','A','E','I','O','U']\n",
    "    if char in Vowels:\n",
    "        return True\n",
    "    else:\n",
    "        return False\n",
    "    \n",
    "print(\"***When passed consonant***\\n\",find_vowel('x'))\n",
    "print(\"\\n***When passed vowel****\\n     \",find_vowel('a'))"
   ]
  },
  {
   "cell_type": "code",
   "execution_count": null,
   "metadata": {},
   "outputs": [],
   "source": []
  }
 ],
 "metadata": {
  "kernelspec": {
   "display_name": "Python 3",
   "language": "python",
   "name": "python3"
  },
  "language_info": {
   "codemirror_mode": {
    "name": "ipython",
    "version": 3
   },
   "file_extension": ".py",
   "mimetype": "text/x-python",
   "name": "python",
   "nbconvert_exporter": "python",
   "pygments_lexer": "ipython3",
   "version": "3.7.4"
  }
 },
 "nbformat": 4,
 "nbformat_minor": 2
}
